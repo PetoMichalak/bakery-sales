{
 "cells": [
  {
   "cell_type": "markdown",
   "metadata": {},
   "source": [
    "# Exploratory analysis of weather data\n",
    "\n",
    "| Column | Description                               | Type     |\n",
    "| ------ | ----------------------------------------- | -------- |\n",
    "| date   | The date of the measurement               | Datetime |\n",
    "| tavg   | The average air temperature in °C         | Float    |\n",
    "| tmin   | The minimum air temperature in °C         | Float    |\n",
    "| tmax   | The maximum air temperature in °C         | Float    |\n",
    "| prcp   | The daily precipitation total in mm       | Float    |\n",
    "| snow   | The snow depth in mm                      | Float    |\n",
    "| wdir   | The average wind direction in degrees (°) | Float    |\n",
    "| wspd   | The average wind speed in km/h            | Float    |\n",
    "| wpgt   | The peak wind gust in km/h                | Float    |\n",
    "| pres   | The average sea-level air pressure in hPa | Float    |\n",
    "| tsun   | The daily sunshine total in minutes (m)   | Float    |"
   ]
  },
  {
   "cell_type": "code",
   "execution_count": 1,
   "metadata": {},
   "outputs": [],
   "source": [
    "WEATHER_DATA_FILE = \"./../data/weather_2021.01.01-2022.10.31.csv\""
   ]
  },
  {
   "cell_type": "code",
   "execution_count": 2,
   "metadata": {},
   "outputs": [
    {
     "data": {
      "text/html": [
       "<div>\n",
       "<style scoped>\n",
       "    .dataframe tbody tr th:only-of-type {\n",
       "        vertical-align: middle;\n",
       "    }\n",
       "\n",
       "    .dataframe tbody tr th {\n",
       "        vertical-align: top;\n",
       "    }\n",
       "\n",
       "    .dataframe thead th {\n",
       "        text-align: right;\n",
       "    }\n",
       "</style>\n",
       "<table border=\"1\" class=\"dataframe\">\n",
       "  <thead>\n",
       "    <tr style=\"text-align: right;\">\n",
       "      <th></th>\n",
       "      <th>date</th>\n",
       "      <th>tavg</th>\n",
       "      <th>tmin</th>\n",
       "      <th>tmax</th>\n",
       "      <th>prcp</th>\n",
       "      <th>snow</th>\n",
       "      <th>wdir</th>\n",
       "      <th>wspd</th>\n",
       "      <th>wpgt</th>\n",
       "      <th>pres</th>\n",
       "      <th>tsun</th>\n",
       "    </tr>\n",
       "  </thead>\n",
       "  <tbody>\n",
       "    <tr>\n",
       "      <th>0</th>\n",
       "      <td>2021-01-01</td>\n",
       "      <td>2.7</td>\n",
       "      <td>1.5</td>\n",
       "      <td>5.7</td>\n",
       "      <td>15.2</td>\n",
       "      <td>NaN</td>\n",
       "      <td>335.0</td>\n",
       "      <td>15.5</td>\n",
       "      <td>31.0</td>\n",
       "      <td>1008.6</td>\n",
       "      <td>NaN</td>\n",
       "    </tr>\n",
       "    <tr>\n",
       "      <th>1</th>\n",
       "      <td>2021-01-02</td>\n",
       "      <td>1.3</td>\n",
       "      <td>0.5</td>\n",
       "      <td>2.7</td>\n",
       "      <td>0.8</td>\n",
       "      <td>NaN</td>\n",
       "      <td>336.0</td>\n",
       "      <td>24.7</td>\n",
       "      <td>44.0</td>\n",
       "      <td>1010.1</td>\n",
       "      <td>NaN</td>\n",
       "    </tr>\n",
       "    <tr>\n",
       "      <th>2</th>\n",
       "      <td>2021-01-03</td>\n",
       "      <td>0.7</td>\n",
       "      <td>-0.3</td>\n",
       "      <td>1.6</td>\n",
       "      <td>0.0</td>\n",
       "      <td>NaN</td>\n",
       "      <td>327.0</td>\n",
       "      <td>17.1</td>\n",
       "      <td>38.9</td>\n",
       "      <td>1012.1</td>\n",
       "      <td>NaN</td>\n",
       "    </tr>\n",
       "    <tr>\n",
       "      <th>3</th>\n",
       "      <td>2021-01-04</td>\n",
       "      <td>0.0</td>\n",
       "      <td>-1.0</td>\n",
       "      <td>1.1</td>\n",
       "      <td>0.0</td>\n",
       "      <td>NaN</td>\n",
       "      <td>329.0</td>\n",
       "      <td>10.6</td>\n",
       "      <td>30.0</td>\n",
       "      <td>1011.4</td>\n",
       "      <td>NaN</td>\n",
       "    </tr>\n",
       "    <tr>\n",
       "      <th>4</th>\n",
       "      <td>2021-01-05</td>\n",
       "      <td>0.8</td>\n",
       "      <td>-0.9</td>\n",
       "      <td>2.1</td>\n",
       "      <td>0.0</td>\n",
       "      <td>NaN</td>\n",
       "      <td>338.0</td>\n",
       "      <td>6.2</td>\n",
       "      <td>30.0</td>\n",
       "      <td>1012.1</td>\n",
       "      <td>NaN</td>\n",
       "    </tr>\n",
       "  </tbody>\n",
       "</table>\n",
       "</div>"
      ],
      "text/plain": [
       "        date  tavg  tmin  tmax  prcp  snow   wdir  wspd  wpgt    pres  tsun\n",
       "0 2021-01-01   2.7   1.5   5.7  15.2   NaN  335.0  15.5  31.0  1008.6   NaN\n",
       "1 2021-01-02   1.3   0.5   2.7   0.8   NaN  336.0  24.7  44.0  1010.1   NaN\n",
       "2 2021-01-03   0.7  -0.3   1.6   0.0   NaN  327.0  17.1  38.9  1012.1   NaN\n",
       "3 2021-01-04   0.0  -1.0   1.1   0.0   NaN  329.0  10.6  30.0  1011.4   NaN\n",
       "4 2021-01-05   0.8  -0.9   2.1   0.0   NaN  338.0   6.2  30.0  1012.1   NaN"
      ]
     },
     "execution_count": 2,
     "metadata": {},
     "output_type": "execute_result"
    }
   ],
   "source": [
    "import pandas as pd\n",
    "df = pd.read_csv(WEATHER_DATA_FILE)\n",
    "df['date'] = pd.to_datetime(df['date'], format=\"%Y-%m-%d\")\n",
    "df.head(5)"
   ]
  },
  {
   "cell_type": "code",
   "execution_count": 3,
   "metadata": {},
   "outputs": [
    {
     "name": "stdout",
     "output_type": "stream",
     "text": [
      "<class 'pandas.core.frame.DataFrame'>\n",
      "RangeIndex: 669 entries, 0 to 668\n",
      "Data columns (total 11 columns):\n",
      " #   Column  Non-Null Count  Dtype         \n",
      "---  ------  --------------  -----         \n",
      " 0   date    669 non-null    datetime64[ns]\n",
      " 1   tavg    669 non-null    float64       \n",
      " 2   tmin    669 non-null    float64       \n",
      " 3   tmax    669 non-null    float64       \n",
      " 4   prcp    669 non-null    float64       \n",
      " 5   snow    15 non-null     float64       \n",
      " 6   wdir    667 non-null    float64       \n",
      " 7   wspd    667 non-null    float64       \n",
      " 8   wpgt    655 non-null    float64       \n",
      " 9   pres    667 non-null    float64       \n",
      " 10  tsun    0 non-null      float64       \n",
      "dtypes: datetime64[ns](1), float64(10)\n",
      "memory usage: 57.6 KB\n"
     ]
    }
   ],
   "source": [
    "df.info()"
   ]
  },
  {
   "cell_type": "code",
   "execution_count": 16,
   "metadata": {},
   "outputs": [
    {
     "data": {
      "application/vnd.jupyter.widget-view+json": {
       "model_id": "b06cd02f8607404ea89426f41253251f",
       "version_major": 2,
       "version_minor": 0
      },
      "text/plain": [
       "Summarize dataset:   0%|          | 0/5 [00:00<?, ?it/s]"
      ]
     },
     "metadata": {},
     "output_type": "display_data"
    },
    {
     "data": {
      "application/vnd.jupyter.widget-view+json": {
       "model_id": "9fe245f8cb584dce9a9ab2e106882fae",
       "version_major": 2,
       "version_minor": 0
      },
      "text/plain": [
       "Generate report structure:   0%|          | 0/1 [00:00<?, ?it/s]"
      ]
     },
     "metadata": {},
     "output_type": "display_data"
    },
    {
     "data": {
      "application/vnd.jupyter.widget-view+json": {
       "model_id": "f5c284c3f28c410f9a63257546c3f407",
       "version_major": 2,
       "version_minor": 0
      },
      "text/plain": [
       "Render widgets:   0%|          | 0/1 [00:00<?, ?it/s]"
      ]
     },
     "metadata": {},
     "output_type": "display_data"
    },
    {
     "data": {
      "application/vnd.jupyter.widget-view+json": {
       "model_id": "d9f2287cf95b41cbb6bd13802b467dca",
       "version_major": 2,
       "version_minor": 0
      },
      "text/plain": [
       "VBox(children=(Tab(children=(Tab(children=(GridBox(children=(VBox(children=(GridspecLayout(children=(HTML(valu…"
      ]
     },
     "metadata": {},
     "output_type": "display_data"
    }
   ],
   "source": [
    "# profile the dataset\n",
    "import numpy as np\n",
    "import pandas as pd\n",
    "from ydata_profiling import ProfileReport\n",
    "import warnings\n",
    "\n",
    "# silence Future and User warnings\n",
    "warnings.filterwarnings(\"ignore\", category=FutureWarning, module=\"seaborn.matrix\")\n",
    "warnings.filterwarnings(\"ignore\", category=UserWarning, module=\"ydata_profiling.model.missing\")\n",
    "\n",
    "profile = ProfileReport(df, title=\"Weather data\")\n",
    "profile.to_widgets()"
   ]
  },
  {
   "cell_type": "markdown",
   "metadata": {},
   "source": [
    "#### Process `snow` column"
   ]
  },
  {
   "cell_type": "code",
   "execution_count": 5,
   "metadata": {},
   "outputs": [],
   "source": [
    "# fill NAs with 0 for no snow\n",
    "df['snow'] = df['snow'].fillna(0)"
   ]
  },
  {
   "cell_type": "markdown",
   "metadata": {},
   "source": [
    "#### Process `tsun` column"
   ]
  },
  {
   "cell_type": "code",
   "execution_count": 6,
   "metadata": {},
   "outputs": [
    {
     "name": "stdout",
     "output_type": "stream",
     "text": [
      "`tsun` column contains 669 missing values out of 669 records\n"
     ]
    }
   ],
   "source": [
    "print(f\"`tsun` column contains {sum(df['tsun'].isna())} missing values out of {df.shape[0]} records\")\n",
    "# drop `tsun` from the dataframe\n",
    "df.drop(['tsun'], axis=1, inplace=True)"
   ]
  },
  {
   "cell_type": "markdown",
   "metadata": {},
   "source": [
    "#### Process `date` column"
   ]
  },
  {
   "cell_type": "code",
   "execution_count": 7,
   "metadata": {},
   "outputs": [
    {
     "data": {
      "text/plain": [
       "count                    669\n",
       "mean     2021-12-01 00:00:00\n",
       "min      2021-01-01 00:00:00\n",
       "25%      2021-06-17 00:00:00\n",
       "50%      2021-12-01 00:00:00\n",
       "75%      2022-05-17 00:00:00\n",
       "max      2022-10-31 00:00:00\n",
       "Name: date, dtype: object"
      ]
     },
     "execution_count": 7,
     "metadata": {},
     "output_type": "execute_result"
    }
   ],
   "source": [
    "df['date'].describe()"
   ]
  },
  {
   "cell_type": "markdown",
   "metadata": {},
   "source": [
    "#### Impute missing `wpgt` values"
   ]
  },
  {
   "cell_type": "code",
   "execution_count": 9,
   "metadata": {},
   "outputs": [
    {
     "data": {
      "text/html": [
       "<div>\n",
       "<style scoped>\n",
       "    .dataframe tbody tr th:only-of-type {\n",
       "        vertical-align: middle;\n",
       "    }\n",
       "\n",
       "    .dataframe tbody tr th {\n",
       "        vertical-align: top;\n",
       "    }\n",
       "\n",
       "    .dataframe thead th {\n",
       "        text-align: right;\n",
       "    }\n",
       "</style>\n",
       "<table border=\"1\" class=\"dataframe\">\n",
       "  <thead>\n",
       "    <tr style=\"text-align: right;\">\n",
       "      <th></th>\n",
       "      <th>date</th>\n",
       "      <th>tavg</th>\n",
       "      <th>tmin</th>\n",
       "      <th>tmax</th>\n",
       "      <th>prcp</th>\n",
       "      <th>snow</th>\n",
       "      <th>wdir</th>\n",
       "      <th>wspd</th>\n",
       "      <th>wpgt</th>\n",
       "      <th>pres</th>\n",
       "    </tr>\n",
       "  </thead>\n",
       "  <tbody>\n",
       "    <tr>\n",
       "      <th>86</th>\n",
       "      <td>2021-03-28</td>\n",
       "      <td>9.5</td>\n",
       "      <td>1.6</td>\n",
       "      <td>17.2</td>\n",
       "      <td>0.0</td>\n",
       "      <td>0.0</td>\n",
       "      <td>NaN</td>\n",
       "      <td>NaN</td>\n",
       "      <td>NaN</td>\n",
       "      <td>NaN</td>\n",
       "    </tr>\n",
       "    <tr>\n",
       "      <th>450</th>\n",
       "      <td>2022-03-27</td>\n",
       "      <td>13.6</td>\n",
       "      <td>5.5</td>\n",
       "      <td>21.2</td>\n",
       "      <td>0.0</td>\n",
       "      <td>0.0</td>\n",
       "      <td>NaN</td>\n",
       "      <td>NaN</td>\n",
       "      <td>NaN</td>\n",
       "      <td>NaN</td>\n",
       "    </tr>\n",
       "    <tr>\n",
       "      <th>517</th>\n",
       "      <td>2022-06-02</td>\n",
       "      <td>20.5</td>\n",
       "      <td>15.7</td>\n",
       "      <td>26.9</td>\n",
       "      <td>1.3</td>\n",
       "      <td>0.0</td>\n",
       "      <td>114.0</td>\n",
       "      <td>11.0</td>\n",
       "      <td>NaN</td>\n",
       "      <td>1015.2</td>\n",
       "    </tr>\n",
       "    <tr>\n",
       "      <th>518</th>\n",
       "      <td>2022-06-03</td>\n",
       "      <td>23.6</td>\n",
       "      <td>17.0</td>\n",
       "      <td>30.7</td>\n",
       "      <td>0.0</td>\n",
       "      <td>0.0</td>\n",
       "      <td>149.0</td>\n",
       "      <td>11.4</td>\n",
       "      <td>NaN</td>\n",
       "      <td>1013.8</td>\n",
       "    </tr>\n",
       "    <tr>\n",
       "      <th>519</th>\n",
       "      <td>2022-06-04</td>\n",
       "      <td>25.8</td>\n",
       "      <td>16.9</td>\n",
       "      <td>33.1</td>\n",
       "      <td>0.0</td>\n",
       "      <td>10.0</td>\n",
       "      <td>192.0</td>\n",
       "      <td>13.3</td>\n",
       "      <td>NaN</td>\n",
       "      <td>1014.0</td>\n",
       "    </tr>\n",
       "    <tr>\n",
       "      <th>520</th>\n",
       "      <td>2022-06-05</td>\n",
       "      <td>21.8</td>\n",
       "      <td>17.4</td>\n",
       "      <td>31.3</td>\n",
       "      <td>9.1</td>\n",
       "      <td>10.0</td>\n",
       "      <td>326.0</td>\n",
       "      <td>11.5</td>\n",
       "      <td>NaN</td>\n",
       "      <td>1015.9</td>\n",
       "    </tr>\n",
       "    <tr>\n",
       "      <th>521</th>\n",
       "      <td>2022-06-06</td>\n",
       "      <td>20.7</td>\n",
       "      <td>15.6</td>\n",
       "      <td>25.4</td>\n",
       "      <td>4.1</td>\n",
       "      <td>10.0</td>\n",
       "      <td>2.0</td>\n",
       "      <td>8.3</td>\n",
       "      <td>NaN</td>\n",
       "      <td>1018.2</td>\n",
       "    </tr>\n",
       "    <tr>\n",
       "      <th>522</th>\n",
       "      <td>2022-06-07</td>\n",
       "      <td>20.0</td>\n",
       "      <td>15.1</td>\n",
       "      <td>24.6</td>\n",
       "      <td>0.2</td>\n",
       "      <td>0.0</td>\n",
       "      <td>356.0</td>\n",
       "      <td>10.4</td>\n",
       "      <td>NaN</td>\n",
       "      <td>1017.4</td>\n",
       "    </tr>\n",
       "    <tr>\n",
       "      <th>523</th>\n",
       "      <td>2022-06-08</td>\n",
       "      <td>17.5</td>\n",
       "      <td>14.7</td>\n",
       "      <td>23.5</td>\n",
       "      <td>14.6</td>\n",
       "      <td>0.0</td>\n",
       "      <td>146.0</td>\n",
       "      <td>10.3</td>\n",
       "      <td>NaN</td>\n",
       "      <td>1013.2</td>\n",
       "    </tr>\n",
       "    <tr>\n",
       "      <th>524</th>\n",
       "      <td>2022-06-09</td>\n",
       "      <td>16.8</td>\n",
       "      <td>14.4</td>\n",
       "      <td>21.2</td>\n",
       "      <td>15.7</td>\n",
       "      <td>0.0</td>\n",
       "      <td>335.0</td>\n",
       "      <td>17.2</td>\n",
       "      <td>NaN</td>\n",
       "      <td>1018.3</td>\n",
       "    </tr>\n",
       "    <tr>\n",
       "      <th>525</th>\n",
       "      <td>2022-06-10</td>\n",
       "      <td>18.7</td>\n",
       "      <td>11.0</td>\n",
       "      <td>25.0</td>\n",
       "      <td>0.5</td>\n",
       "      <td>0.0</td>\n",
       "      <td>358.0</td>\n",
       "      <td>14.5</td>\n",
       "      <td>NaN</td>\n",
       "      <td>1022.2</td>\n",
       "    </tr>\n",
       "    <tr>\n",
       "      <th>526</th>\n",
       "      <td>2022-06-11</td>\n",
       "      <td>22.0</td>\n",
       "      <td>13.7</td>\n",
       "      <td>29.1</td>\n",
       "      <td>0.0</td>\n",
       "      <td>0.0</td>\n",
       "      <td>355.0</td>\n",
       "      <td>9.3</td>\n",
       "      <td>NaN</td>\n",
       "      <td>1021.6</td>\n",
       "    </tr>\n",
       "    <tr>\n",
       "      <th>527</th>\n",
       "      <td>2022-06-12</td>\n",
       "      <td>24.4</td>\n",
       "      <td>16.9</td>\n",
       "      <td>32.1</td>\n",
       "      <td>0.0</td>\n",
       "      <td>10.0</td>\n",
       "      <td>243.0</td>\n",
       "      <td>7.8</td>\n",
       "      <td>NaN</td>\n",
       "      <td>1020.0</td>\n",
       "    </tr>\n",
       "    <tr>\n",
       "      <th>528</th>\n",
       "      <td>2022-06-13</td>\n",
       "      <td>22.5</td>\n",
       "      <td>18.3</td>\n",
       "      <td>28.6</td>\n",
       "      <td>0.0</td>\n",
       "      <td>0.0</td>\n",
       "      <td>343.0</td>\n",
       "      <td>17.7</td>\n",
       "      <td>NaN</td>\n",
       "      <td>1019.8</td>\n",
       "    </tr>\n",
       "  </tbody>\n",
       "</table>\n",
       "</div>"
      ],
      "text/plain": [
       "          date  tavg  tmin  tmax  prcp  snow   wdir  wspd  wpgt    pres\n",
       "86  2021-03-28   9.5   1.6  17.2   0.0   0.0    NaN   NaN   NaN     NaN\n",
       "450 2022-03-27  13.6   5.5  21.2   0.0   0.0    NaN   NaN   NaN     NaN\n",
       "517 2022-06-02  20.5  15.7  26.9   1.3   0.0  114.0  11.0   NaN  1015.2\n",
       "518 2022-06-03  23.6  17.0  30.7   0.0   0.0  149.0  11.4   NaN  1013.8\n",
       "519 2022-06-04  25.8  16.9  33.1   0.0  10.0  192.0  13.3   NaN  1014.0\n",
       "520 2022-06-05  21.8  17.4  31.3   9.1  10.0  326.0  11.5   NaN  1015.9\n",
       "521 2022-06-06  20.7  15.6  25.4   4.1  10.0    2.0   8.3   NaN  1018.2\n",
       "522 2022-06-07  20.0  15.1  24.6   0.2   0.0  356.0  10.4   NaN  1017.4\n",
       "523 2022-06-08  17.5  14.7  23.5  14.6   0.0  146.0  10.3   NaN  1013.2\n",
       "524 2022-06-09  16.8  14.4  21.2  15.7   0.0  335.0  17.2   NaN  1018.3\n",
       "525 2022-06-10  18.7  11.0  25.0   0.5   0.0  358.0  14.5   NaN  1022.2\n",
       "526 2022-06-11  22.0  13.7  29.1   0.0   0.0  355.0   9.3   NaN  1021.6\n",
       "527 2022-06-12  24.4  16.9  32.1   0.0  10.0  243.0   7.8   NaN  1020.0\n",
       "528 2022-06-13  22.5  18.3  28.6   0.0   0.0  343.0  17.7   NaN  1019.8"
      ]
     },
     "execution_count": 9,
     "metadata": {},
     "output_type": "execute_result"
    }
   ],
   "source": [
    "df[df['wpgt'].isna()]"
   ]
  },
  {
   "cell_type": "code",
   "execution_count": 10,
   "metadata": {},
   "outputs": [],
   "source": [
    "# drop index 86 and 450 as there is no wind speed information\n",
    "indices_to_drop = [86, 450]\n",
    "df = df.drop(indices_to_drop)"
   ]
  },
  {
   "cell_type": "code",
   "execution_count": 11,
   "metadata": {},
   "outputs": [
    {
     "name": "stdout",
     "output_type": "stream",
     "text": [
      "Mean Squared Error (MSE) on the test set: 64.06520887871775\n"
     ]
    }
   ],
   "source": [
    "import numpy as np\n",
    "from sklearn.model_selection import train_test_split\n",
    "from sklearn.metrics import mean_squared_error\n",
    "from sklearn.linear_model import LinearRegression\n",
    "\n",
    "# separate missing values \n",
    "df_missing = df[df['wpgt'].isnull()]\n",
    "df_not_missing = df.dropna(subset=['wpgt'])\n",
    "\n",
    "# prep features for regression\n",
    "X_train = df_not_missing[['wspd']]\n",
    "y_train = df_not_missing['wpgt']\n",
    "\n",
    "# Split the data into training and testing sets (e.g., 70/30 split)\n",
    "X_train, X_test, y_train, y_test = train_test_split(X_train, y_train, test_size=0.3, random_state=42)\n",
    "\n",
    "# fit simple regression model\n",
    "model = LinearRegression()\n",
    "model.fit(X_train, y_train)\n",
    "\n",
    "# use model for prediction on the text set\n",
    "predicted_values_test = model.predict(X_test)\n",
    "\n",
    "# calculate Mean Squared Error (MSE)\n",
    "mse = mean_squared_error(y_test, predicted_values_test)\n",
    "print(f\"Mean Squared Error (MSE) on the test set: {mse}\")\n",
    "\n",
    "# use 'wspd' to predict missing values \n",
    "predicted_values = model.predict(df_missing[['wspd']].dropna())\n",
    "\n",
    "# Fill in the missing values in 'wpgt'\n",
    "df.loc[df['wpgt'].isnull(), 'wpgt'] = predicted_values\n"
   ]
  },
  {
   "cell_type": "code",
   "execution_count": 12,
   "metadata": {},
   "outputs": [
    {
     "name": "stdout",
     "output_type": "stream",
     "text": [
      "Variance of `wpgt` is 206.39397153550095\n"
     ]
    }
   ],
   "source": [
    "print(f\"Variance of `wpgt` is {np.var(df['wpgt'])}\")\n",
    "# as the variance is much larger than MSE so the model should be capturing a significat portion of the variation in the target"
   ]
  },
  {
   "cell_type": "code",
   "execution_count": 13,
   "metadata": {},
   "outputs": [
    {
     "data": {
      "text/html": [
       "<div>\n",
       "<style scoped>\n",
       "    .dataframe tbody tr th:only-of-type {\n",
       "        vertical-align: middle;\n",
       "    }\n",
       "\n",
       "    .dataframe tbody tr th {\n",
       "        vertical-align: top;\n",
       "    }\n",
       "\n",
       "    .dataframe thead th {\n",
       "        text-align: right;\n",
       "    }\n",
       "</style>\n",
       "<table border=\"1\" class=\"dataframe\">\n",
       "  <thead>\n",
       "    <tr style=\"text-align: right;\">\n",
       "      <th></th>\n",
       "      <th>date</th>\n",
       "      <th>tavg</th>\n",
       "      <th>tmin</th>\n",
       "      <th>tmax</th>\n",
       "      <th>prcp</th>\n",
       "      <th>snow</th>\n",
       "      <th>wdir</th>\n",
       "      <th>wspd</th>\n",
       "      <th>wpgt</th>\n",
       "      <th>pres</th>\n",
       "    </tr>\n",
       "  </thead>\n",
       "  <tbody>\n",
       "    <tr>\n",
       "      <th>517</th>\n",
       "      <td>2022-06-02</td>\n",
       "      <td>20.5</td>\n",
       "      <td>15.7</td>\n",
       "      <td>26.9</td>\n",
       "      <td>1.3</td>\n",
       "      <td>0.0</td>\n",
       "      <td>114.0</td>\n",
       "      <td>11.0</td>\n",
       "      <td>35.968264</td>\n",
       "      <td>1015.2</td>\n",
       "    </tr>\n",
       "    <tr>\n",
       "      <th>518</th>\n",
       "      <td>2022-06-03</td>\n",
       "      <td>23.6</td>\n",
       "      <td>17.0</td>\n",
       "      <td>30.7</td>\n",
       "      <td>0.0</td>\n",
       "      <td>0.0</td>\n",
       "      <td>149.0</td>\n",
       "      <td>11.4</td>\n",
       "      <td>36.736437</td>\n",
       "      <td>1013.8</td>\n",
       "    </tr>\n",
       "    <tr>\n",
       "      <th>519</th>\n",
       "      <td>2022-06-04</td>\n",
       "      <td>25.8</td>\n",
       "      <td>16.9</td>\n",
       "      <td>33.1</td>\n",
       "      <td>0.0</td>\n",
       "      <td>10.0</td>\n",
       "      <td>192.0</td>\n",
       "      <td>13.3</td>\n",
       "      <td>40.385260</td>\n",
       "      <td>1014.0</td>\n",
       "    </tr>\n",
       "    <tr>\n",
       "      <th>520</th>\n",
       "      <td>2022-06-05</td>\n",
       "      <td>21.8</td>\n",
       "      <td>17.4</td>\n",
       "      <td>31.3</td>\n",
       "      <td>9.1</td>\n",
       "      <td>10.0</td>\n",
       "      <td>326.0</td>\n",
       "      <td>11.5</td>\n",
       "      <td>36.928481</td>\n",
       "      <td>1015.9</td>\n",
       "    </tr>\n",
       "    <tr>\n",
       "      <th>521</th>\n",
       "      <td>2022-06-06</td>\n",
       "      <td>20.7</td>\n",
       "      <td>15.6</td>\n",
       "      <td>25.4</td>\n",
       "      <td>4.1</td>\n",
       "      <td>10.0</td>\n",
       "      <td>2.0</td>\n",
       "      <td>8.3</td>\n",
       "      <td>30.783096</td>\n",
       "      <td>1018.2</td>\n",
       "    </tr>\n",
       "    <tr>\n",
       "      <th>522</th>\n",
       "      <td>2022-06-07</td>\n",
       "      <td>20.0</td>\n",
       "      <td>15.1</td>\n",
       "      <td>24.6</td>\n",
       "      <td>0.2</td>\n",
       "      <td>0.0</td>\n",
       "      <td>356.0</td>\n",
       "      <td>10.4</td>\n",
       "      <td>34.816005</td>\n",
       "      <td>1017.4</td>\n",
       "    </tr>\n",
       "    <tr>\n",
       "      <th>523</th>\n",
       "      <td>2022-06-08</td>\n",
       "      <td>17.5</td>\n",
       "      <td>14.7</td>\n",
       "      <td>23.5</td>\n",
       "      <td>14.6</td>\n",
       "      <td>0.0</td>\n",
       "      <td>146.0</td>\n",
       "      <td>10.3</td>\n",
       "      <td>34.623961</td>\n",
       "      <td>1013.2</td>\n",
       "    </tr>\n",
       "    <tr>\n",
       "      <th>524</th>\n",
       "      <td>2022-06-09</td>\n",
       "      <td>16.8</td>\n",
       "      <td>14.4</td>\n",
       "      <td>21.2</td>\n",
       "      <td>15.7</td>\n",
       "      <td>0.0</td>\n",
       "      <td>335.0</td>\n",
       "      <td>17.2</td>\n",
       "      <td>47.874947</td>\n",
       "      <td>1018.3</td>\n",
       "    </tr>\n",
       "    <tr>\n",
       "      <th>525</th>\n",
       "      <td>2022-06-10</td>\n",
       "      <td>18.7</td>\n",
       "      <td>11.0</td>\n",
       "      <td>25.0</td>\n",
       "      <td>0.5</td>\n",
       "      <td>0.0</td>\n",
       "      <td>358.0</td>\n",
       "      <td>14.5</td>\n",
       "      <td>42.689779</td>\n",
       "      <td>1022.2</td>\n",
       "    </tr>\n",
       "    <tr>\n",
       "      <th>526</th>\n",
       "      <td>2022-06-11</td>\n",
       "      <td>22.0</td>\n",
       "      <td>13.7</td>\n",
       "      <td>29.1</td>\n",
       "      <td>0.0</td>\n",
       "      <td>0.0</td>\n",
       "      <td>355.0</td>\n",
       "      <td>9.3</td>\n",
       "      <td>32.703529</td>\n",
       "      <td>1021.6</td>\n",
       "    </tr>\n",
       "    <tr>\n",
       "      <th>527</th>\n",
       "      <td>2022-06-12</td>\n",
       "      <td>24.4</td>\n",
       "      <td>16.9</td>\n",
       "      <td>32.1</td>\n",
       "      <td>0.0</td>\n",
       "      <td>10.0</td>\n",
       "      <td>243.0</td>\n",
       "      <td>7.8</td>\n",
       "      <td>29.822880</td>\n",
       "      <td>1020.0</td>\n",
       "    </tr>\n",
       "    <tr>\n",
       "      <th>528</th>\n",
       "      <td>2022-06-13</td>\n",
       "      <td>22.5</td>\n",
       "      <td>18.3</td>\n",
       "      <td>28.6</td>\n",
       "      <td>0.0</td>\n",
       "      <td>0.0</td>\n",
       "      <td>343.0</td>\n",
       "      <td>17.7</td>\n",
       "      <td>48.835163</td>\n",
       "      <td>1019.8</td>\n",
       "    </tr>\n",
       "  </tbody>\n",
       "</table>\n",
       "</div>"
      ],
      "text/plain": [
       "          date  tavg  tmin  tmax  prcp  snow   wdir  wspd       wpgt    pres\n",
       "517 2022-06-02  20.5  15.7  26.9   1.3   0.0  114.0  11.0  35.968264  1015.2\n",
       "518 2022-06-03  23.6  17.0  30.7   0.0   0.0  149.0  11.4  36.736437  1013.8\n",
       "519 2022-06-04  25.8  16.9  33.1   0.0  10.0  192.0  13.3  40.385260  1014.0\n",
       "520 2022-06-05  21.8  17.4  31.3   9.1  10.0  326.0  11.5  36.928481  1015.9\n",
       "521 2022-06-06  20.7  15.6  25.4   4.1  10.0    2.0   8.3  30.783096  1018.2\n",
       "522 2022-06-07  20.0  15.1  24.6   0.2   0.0  356.0  10.4  34.816005  1017.4\n",
       "523 2022-06-08  17.5  14.7  23.5  14.6   0.0  146.0  10.3  34.623961  1013.2\n",
       "524 2022-06-09  16.8  14.4  21.2  15.7   0.0  335.0  17.2  47.874947  1018.3\n",
       "525 2022-06-10  18.7  11.0  25.0   0.5   0.0  358.0  14.5  42.689779  1022.2\n",
       "526 2022-06-11  22.0  13.7  29.1   0.0   0.0  355.0   9.3  32.703529  1021.6\n",
       "527 2022-06-12  24.4  16.9  32.1   0.0  10.0  243.0   7.8  29.822880  1020.0\n",
       "528 2022-06-13  22.5  18.3  28.6   0.0   0.0  343.0  17.7  48.835163  1019.8"
      ]
     },
     "execution_count": 13,
     "metadata": {},
     "output_type": "execute_result"
    }
   ],
   "source": [
    "selected_indices = list(range(517, 529))\n",
    "df.loc[selected_indices]"
   ]
  },
  {
   "cell_type": "markdown",
   "metadata": {},
   "source": [
    "#### Rerun profiling"
   ]
  },
  {
   "cell_type": "code",
   "execution_count": 14,
   "metadata": {},
   "outputs": [
    {
     "data": {
      "application/vnd.jupyter.widget-view+json": {
       "model_id": "e0ff0b78e1b34c5aa7843375ac684e0a",
       "version_major": 2,
       "version_minor": 0
      },
      "text/plain": [
       "Summarize dataset:   0%|          | 0/5 [00:00<?, ?it/s]"
      ]
     },
     "metadata": {},
     "output_type": "display_data"
    },
    {
     "data": {
      "application/vnd.jupyter.widget-view+json": {
       "model_id": "227274ecd2f046869316286e4b9593cc",
       "version_major": 2,
       "version_minor": 0
      },
      "text/plain": [
       "Generate report structure:   0%|          | 0/1 [00:00<?, ?it/s]"
      ]
     },
     "metadata": {},
     "output_type": "display_data"
    },
    {
     "data": {
      "application/vnd.jupyter.widget-view+json": {
       "model_id": "30d7bbe1ba654ab9af77edbd488558d8",
       "version_major": 2,
       "version_minor": 0
      },
      "text/plain": [
       "Render widgets:   0%|          | 0/1 [00:00<?, ?it/s]"
      ]
     },
     "metadata": {},
     "output_type": "display_data"
    },
    {
     "data": {
      "application/vnd.jupyter.widget-view+json": {
       "model_id": "49075b1e4f444f1d8e6223f434c8a6e7",
       "version_major": 2,
       "version_minor": 0
      },
      "text/plain": [
       "VBox(children=(Tab(children=(Tab(children=(GridBox(children=(VBox(children=(GridspecLayout(children=(HTML(valu…"
      ]
     },
     "metadata": {},
     "output_type": "display_data"
    }
   ],
   "source": [
    "profile = ProfileReport(df, title=\"Weather data - cleaned & imputed\")\n",
    "profile.to_widgets()"
   ]
  },
  {
   "cell_type": "markdown",
   "metadata": {},
   "source": [
    "### Save cleaned weather dataframe"
   ]
  },
  {
   "cell_type": "code",
   "execution_count": 15,
   "metadata": {},
   "outputs": [],
   "source": [
    "df.to_csv('../data/weather_cleaned.csv', index=False)\n",
    "df.to_excel('../data/weather_cleaned.xlsx', index=False)"
   ]
  }
 ],
 "metadata": {
  "kernelspec": {
   "display_name": ".venv",
   "language": "python",
   "name": "python3"
  },
  "language_info": {
   "codemirror_mode": {
    "name": "ipython",
    "version": 3
   },
   "file_extension": ".py",
   "mimetype": "text/x-python",
   "name": "python",
   "nbconvert_exporter": "python",
   "pygments_lexer": "ipython3",
   "version": "3.10.13"
  }
 },
 "nbformat": 4,
 "nbformat_minor": 2
}
